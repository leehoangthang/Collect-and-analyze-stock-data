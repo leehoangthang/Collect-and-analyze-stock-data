{
 "cells": [
  {
   "cell_type": "code",
   "execution_count": 1,
   "metadata": {},
   "outputs": [
    {
     "name": "stderr",
     "output_type": "stream",
     "text": [
      "C:\\Users\\phath\\AppData\\Local\\Temp\\ipykernel_1736\\4186951312.py:5: MatplotlibDeprecationWarning: The seaborn styles shipped by Matplotlib are deprecated since 3.6, as they no longer correspond to the styles shipped by seaborn. However, they will remain available as 'seaborn-v0_8-<style>'. Alternatively, directly use the seaborn API instead.\n",
      "  plt.style.use('seaborn')\n"
     ]
    }
   ],
   "source": [
    "import pandas as pd\n",
    "import numpy as np\n",
    "import matplotlib.pyplot as plt\n",
    "import seaborn as snsA\n",
    "plt.style.use('seaborn')"
   ]
  },
  {
   "cell_type": "markdown",
   "metadata": {},
   "source": [
    "# Dữ liệu chứng khoán"
   ]
  },
  {
   "cell_type": "markdown",
   "metadata": {},
   "source": [
    "## Dữ liệu chính"
   ]
  },
  {
   "cell_type": "code",
   "execution_count": 2,
   "metadata": {},
   "outputs": [
    {
     "data": {
      "text/html": [
       "<div>\n",
       "<style scoped>\n",
       "    .dataframe tbody tr th:only-of-type {\n",
       "        vertical-align: middle;\n",
       "    }\n",
       "\n",
       "    .dataframe tbody tr th {\n",
       "        vertical-align: top;\n",
       "    }\n",
       "\n",
       "    .dataframe thead th {\n",
       "        text-align: right;\n",
       "    }\n",
       "</style>\n",
       "<table border=\"1\" class=\"dataframe\">\n",
       "  <thead>\n",
       "    <tr style=\"text-align: right;\">\n",
       "      <th></th>\n",
       "      <th>Unnamed: 0.1</th>\n",
       "      <th>Unnamed: 0</th>\n",
       "      <th>1. open</th>\n",
       "      <th>2. high</th>\n",
       "      <th>3. low</th>\n",
       "      <th>4. close</th>\n",
       "      <th>5. volume</th>\n",
       "      <th>Symbol</th>\n",
       "      <th>Name</th>\n",
       "    </tr>\n",
       "  </thead>\n",
       "  <tbody>\n",
       "    <tr>\n",
       "      <th>0</th>\n",
       "      <td>0</td>\n",
       "      <td>2024-01-29</td>\n",
       "      <td>131.75</td>\n",
       "      <td>132.90</td>\n",
       "      <td>131.2800</td>\n",
       "      <td>132.83</td>\n",
       "      <td>1407250</td>\n",
       "      <td>A</td>\n",
       "      <td>Agilent Technologies</td>\n",
       "    </tr>\n",
       "    <tr>\n",
       "      <th>1</th>\n",
       "      <td>1</td>\n",
       "      <td>2024-01-26</td>\n",
       "      <td>133.71</td>\n",
       "      <td>134.23</td>\n",
       "      <td>130.6400</td>\n",
       "      <td>130.99</td>\n",
       "      <td>1319766</td>\n",
       "      <td>A</td>\n",
       "      <td>Agilent Technologies</td>\n",
       "    </tr>\n",
       "    <tr>\n",
       "      <th>2</th>\n",
       "      <td>2</td>\n",
       "      <td>2024-01-25</td>\n",
       "      <td>131.11</td>\n",
       "      <td>131.43</td>\n",
       "      <td>129.4300</td>\n",
       "      <td>129.88</td>\n",
       "      <td>1120939</td>\n",
       "      <td>A</td>\n",
       "      <td>Agilent Technologies</td>\n",
       "    </tr>\n",
       "    <tr>\n",
       "      <th>3</th>\n",
       "      <td>3</td>\n",
       "      <td>2024-01-24</td>\n",
       "      <td>132.41</td>\n",
       "      <td>132.80</td>\n",
       "      <td>129.4300</td>\n",
       "      <td>129.78</td>\n",
       "      <td>1141175</td>\n",
       "      <td>A</td>\n",
       "      <td>Agilent Technologies</td>\n",
       "    </tr>\n",
       "    <tr>\n",
       "      <th>4</th>\n",
       "      <td>4</td>\n",
       "      <td>2024-01-23</td>\n",
       "      <td>133.64</td>\n",
       "      <td>133.94</td>\n",
       "      <td>130.3298</td>\n",
       "      <td>131.64</td>\n",
       "      <td>854928</td>\n",
       "      <td>A</td>\n",
       "      <td>Agilent Technologies</td>\n",
       "    </tr>\n",
       "  </tbody>\n",
       "</table>\n",
       "</div>"
      ],
      "text/plain": [
       "   Unnamed: 0.1  Unnamed: 0  1. open  2. high    3. low  4. close  5. volume  \\\n",
       "0             0  2024-01-29   131.75   132.90  131.2800    132.83    1407250   \n",
       "1             1  2024-01-26   133.71   134.23  130.6400    130.99    1319766   \n",
       "2             2  2024-01-25   131.11   131.43  129.4300    129.88    1120939   \n",
       "3             3  2024-01-24   132.41   132.80  129.4300    129.78    1141175   \n",
       "4             4  2024-01-23   133.64   133.94  130.3298    131.64     854928   \n",
       "\n",
       "  Symbol                  Name  \n",
       "0      A  Agilent Technologies  \n",
       "1      A  Agilent Technologies  \n",
       "2      A  Agilent Technologies  \n",
       "3      A  Agilent Technologies  \n",
       "4      A  Agilent Technologies  "
      ]
     },
     "execution_count": 2,
     "metadata": {},
     "output_type": "execute_result"
    }
   ],
   "source": [
    "data = pd.read_csv('D:/KHAIPHADULIEU/cuoiky/data.csv')\n",
    "data.head()"
   ]
  },
  {
   "cell_type": "code",
   "execution_count": 3,
   "metadata": {},
   "outputs": [],
   "source": [
    "data = data.drop(columns='Unnamed: 0.1')"
   ]
  },
  {
   "cell_type": "code",
   "execution_count": 5,
   "metadata": {},
   "outputs": [
    {
     "data": {
      "text/plain": [
       "Index(['Unnamed: 0', '1. open', '2. high', '3. low', '4. close', '5. volume',\n",
       "       'Symbol', 'Name'],\n",
       "      dtype='object')"
      ]
     },
     "execution_count": 5,
     "metadata": {},
     "output_type": "execute_result"
    }
   ],
   "source": [
    "data.columns"
   ]
  },
  {
   "cell_type": "code",
   "execution_count": 6,
   "metadata": {},
   "outputs": [],
   "source": [
    "data = data.rename(columns={'Unnamed: 0' : 'Date', 'Name': 'Company Name',\n",
    "                            '1. open': 'Gia_mo', '4. close': 'Gia_dong',\n",
    "                            '2. high': 'Gia_max', '3. low': 'Gia_min',\n",
    "                            '5. volume': 'Khoi_Luong_GD'})"
   ]
  },
  {
   "cell_type": "code",
   "execution_count": 7,
   "metadata": {},
   "outputs": [
    {
     "name": "stdout",
     "output_type": "stream",
     "text": [
      "<class 'pandas.core.frame.DataFrame'>\n",
      "RangeIndex: 14840993 entries, 0 to 14840992\n",
      "Data columns (total 8 columns):\n",
      " #   Column         Dtype  \n",
      "---  ------         -----  \n",
      " 0   Date           object \n",
      " 1   Gia_mo         float64\n",
      " 2   Gia_max        float64\n",
      " 3   Gia_min        float64\n",
      " 4   Gia_dong       float64\n",
      " 5   Khoi_Luong_GD  int64  \n",
      " 6   Symbol         object \n",
      " 7   Company Name   object \n",
      "dtypes: float64(4), int64(1), object(3)\n",
      "memory usage: 905.8+ MB\n"
     ]
    }
   ],
   "source": [
    "data.info()"
   ]
  },
  {
   "cell_type": "code",
   "execution_count": 8,
   "metadata": {},
   "outputs": [
    {
     "name": "stdout",
     "output_type": "stream",
     "text": [
      "<class 'pandas.core.frame.DataFrame'>\n",
      "RangeIndex: 14840993 entries, 0 to 14840992\n",
      "Data columns (total 8 columns):\n",
      " #   Column         Dtype         \n",
      "---  ------         -----         \n",
      " 0   Date           datetime64[ns]\n",
      " 1   Gia_mo         float64       \n",
      " 2   Gia_max        float64       \n",
      " 3   Gia_min        float64       \n",
      " 4   Gia_dong       float64       \n",
      " 5   Khoi_Luong_GD  int64         \n",
      " 6   Symbol         object        \n",
      " 7   Company Name   object        \n",
      "dtypes: datetime64[ns](1), float64(4), int64(1), object(2)\n",
      "memory usage: 905.8+ MB\n"
     ]
    }
   ],
   "source": [
    "data['Date'] = pd.to_datetime(data['Date'], format='%Y-%m-%d')\n",
    "data.info()"
   ]
  },
  {
   "cell_type": "markdown",
   "metadata": {},
   "source": [
    "## Stock"
   ]
  },
  {
   "cell_type": "code",
   "execution_count": 9,
   "metadata": {},
   "outputs": [
    {
     "data": {
      "text/html": [
       "<div>\n",
       "<style scoped>\n",
       "    .dataframe tbody tr th:only-of-type {\n",
       "        vertical-align: middle;\n",
       "    }\n",
       "\n",
       "    .dataframe tbody tr th {\n",
       "        vertical-align: top;\n",
       "    }\n",
       "\n",
       "    .dataframe thead th {\n",
       "        text-align: right;\n",
       "    }\n",
       "</style>\n",
       "<table border=\"1\" class=\"dataframe\">\n",
       "  <thead>\n",
       "    <tr style=\"text-align: right;\">\n",
       "      <th></th>\n",
       "      <th>Unnamed: 0</th>\n",
       "      <th>Symbol</th>\n",
       "      <th>Company Name</th>\n",
       "      <th>Industry</th>\n",
       "      <th>Market Cap</th>\n",
       "      <th>Rank</th>\n",
       "      <th>country</th>\n",
       "    </tr>\n",
       "  </thead>\n",
       "  <tbody>\n",
       "    <tr>\n",
       "      <th>0</th>\n",
       "      <td>0</td>\n",
       "      <td>A</td>\n",
       "      <td>Agilent Technologies</td>\n",
       "      <td>Diagnostics &amp; Research</td>\n",
       "      <td>38.38B</td>\n",
       "      <td>481</td>\n",
       "      <td>United States</td>\n",
       "    </tr>\n",
       "    <tr>\n",
       "      <th>1</th>\n",
       "      <td>1</td>\n",
       "      <td>AA</td>\n",
       "      <td>Alcoa</td>\n",
       "      <td>Aluminum</td>\n",
       "      <td>5.46B</td>\n",
       "      <td>2433</td>\n",
       "      <td>United States</td>\n",
       "    </tr>\n",
       "    <tr>\n",
       "      <th>2</th>\n",
       "      <td>2</td>\n",
       "      <td>AACG</td>\n",
       "      <td>ATA Creativity Global</td>\n",
       "      <td>Education &amp; Training Services</td>\n",
       "      <td>33.89M</td>\n",
       "      <td>7443</td>\n",
       "      <td>China</td>\n",
       "    </tr>\n",
       "    <tr>\n",
       "      <th>3</th>\n",
       "      <td>3</td>\n",
       "      <td>AADI</td>\n",
       "      <td>Aadi Bioscience</td>\n",
       "      <td>Biotechnology</td>\n",
       "      <td>40.96M</td>\n",
       "      <td>7386</td>\n",
       "      <td>United States</td>\n",
       "    </tr>\n",
       "    <tr>\n",
       "      <th>4</th>\n",
       "      <td>4</td>\n",
       "      <td>AAL</td>\n",
       "      <td>American Airlines Group</td>\n",
       "      <td>Airlines</td>\n",
       "      <td>9.89B</td>\n",
       "      <td>1590</td>\n",
       "      <td>United States</td>\n",
       "    </tr>\n",
       "  </tbody>\n",
       "</table>\n",
       "</div>"
      ],
      "text/plain": [
       "   Unnamed: 0 Symbol             Company Name                       Industry  \\\n",
       "0           0      A     Agilent Technologies         Diagnostics & Research   \n",
       "1           1     AA                    Alcoa                       Aluminum   \n",
       "2           2   AACG    ATA Creativity Global  Education & Training Services   \n",
       "3           3   AADI          Aadi Bioscience                  Biotechnology   \n",
       "4           4    AAL  American Airlines Group                       Airlines   \n",
       "\n",
       "  Market Cap  Rank        country  \n",
       "0     38.38B   481  United States  \n",
       "1      5.46B  2433  United States  \n",
       "2     33.89M  7443          China  \n",
       "3     40.96M  7386  United States  \n",
       "4      9.89B  1590  United States  "
      ]
     },
     "execution_count": 9,
     "metadata": {},
     "output_type": "execute_result"
    }
   ],
   "source": [
    "data2 = pd.read_csv('D:/KHAIPHADULIEU/cuoiky/stock.csv')\n",
    "data2.head()"
   ]
  },
  {
   "cell_type": "code",
   "execution_count": 10,
   "metadata": {},
   "outputs": [],
   "source": [
    "data2 = data2.drop(columns='Unnamed: 0')"
   ]
  },
  {
   "cell_type": "code",
   "execution_count": 11,
   "metadata": {},
   "outputs": [
    {
     "data": {
      "text/plain": [
       "Index(['Symbol', 'Company Name', 'Industry', 'Market Cap', 'Rank', 'country'], dtype='object')"
      ]
     },
     "execution_count": 11,
     "metadata": {},
     "output_type": "execute_result"
    }
   ],
   "source": [
    "data2.columns"
   ]
  },
  {
   "cell_type": "markdown",
   "metadata": {},
   "source": [
    "# Nối hai bảng"
   ]
  },
  {
   "cell_type": "markdown",
   "metadata": {},
   "source": [
    "Ta sẽ nối hải bảng này bằng ahi trường là Symbol và Company Name vì cả hai bảng đều có trường chung là hai cột đó"
   ]
  },
  {
   "cell_type": "code",
   "execution_count": 12,
   "metadata": {},
   "outputs": [
    {
     "data": {
      "text/html": [
       "<div>\n",
       "<style scoped>\n",
       "    .dataframe tbody tr th:only-of-type {\n",
       "        vertical-align: middle;\n",
       "    }\n",
       "\n",
       "    .dataframe tbody tr th {\n",
       "        vertical-align: top;\n",
       "    }\n",
       "\n",
       "    .dataframe thead th {\n",
       "        text-align: right;\n",
       "    }\n",
       "</style>\n",
       "<table border=\"1\" class=\"dataframe\">\n",
       "  <thead>\n",
       "    <tr style=\"text-align: right;\">\n",
       "      <th></th>\n",
       "      <th>Date</th>\n",
       "      <th>Gia_mo</th>\n",
       "      <th>Gia_max</th>\n",
       "      <th>Gia_min</th>\n",
       "      <th>Gia_dong</th>\n",
       "      <th>Khoi_Luong_GD</th>\n",
       "      <th>Symbol</th>\n",
       "      <th>Company Name</th>\n",
       "      <th>Industry</th>\n",
       "      <th>Market Cap</th>\n",
       "      <th>Rank</th>\n",
       "      <th>country</th>\n",
       "    </tr>\n",
       "  </thead>\n",
       "  <tbody>\n",
       "    <tr>\n",
       "      <th>0</th>\n",
       "      <td>2024-01-29</td>\n",
       "      <td>131.75</td>\n",
       "      <td>132.90</td>\n",
       "      <td>131.2800</td>\n",
       "      <td>132.83</td>\n",
       "      <td>1407250</td>\n",
       "      <td>A</td>\n",
       "      <td>Agilent Technologies</td>\n",
       "      <td>Diagnostics &amp; Research</td>\n",
       "      <td>38.38B</td>\n",
       "      <td>481</td>\n",
       "      <td>United States</td>\n",
       "    </tr>\n",
       "    <tr>\n",
       "      <th>1</th>\n",
       "      <td>2024-01-26</td>\n",
       "      <td>133.71</td>\n",
       "      <td>134.23</td>\n",
       "      <td>130.6400</td>\n",
       "      <td>130.99</td>\n",
       "      <td>1319766</td>\n",
       "      <td>A</td>\n",
       "      <td>Agilent Technologies</td>\n",
       "      <td>Diagnostics &amp; Research</td>\n",
       "      <td>38.38B</td>\n",
       "      <td>481</td>\n",
       "      <td>United States</td>\n",
       "    </tr>\n",
       "    <tr>\n",
       "      <th>2</th>\n",
       "      <td>2024-01-25</td>\n",
       "      <td>131.11</td>\n",
       "      <td>131.43</td>\n",
       "      <td>129.4300</td>\n",
       "      <td>129.88</td>\n",
       "      <td>1120939</td>\n",
       "      <td>A</td>\n",
       "      <td>Agilent Technologies</td>\n",
       "      <td>Diagnostics &amp; Research</td>\n",
       "      <td>38.38B</td>\n",
       "      <td>481</td>\n",
       "      <td>United States</td>\n",
       "    </tr>\n",
       "    <tr>\n",
       "      <th>3</th>\n",
       "      <td>2024-01-24</td>\n",
       "      <td>132.41</td>\n",
       "      <td>132.80</td>\n",
       "      <td>129.4300</td>\n",
       "      <td>129.78</td>\n",
       "      <td>1141175</td>\n",
       "      <td>A</td>\n",
       "      <td>Agilent Technologies</td>\n",
       "      <td>Diagnostics &amp; Research</td>\n",
       "      <td>38.38B</td>\n",
       "      <td>481</td>\n",
       "      <td>United States</td>\n",
       "    </tr>\n",
       "    <tr>\n",
       "      <th>4</th>\n",
       "      <td>2024-01-23</td>\n",
       "      <td>133.64</td>\n",
       "      <td>133.94</td>\n",
       "      <td>130.3298</td>\n",
       "      <td>131.64</td>\n",
       "      <td>854928</td>\n",
       "      <td>A</td>\n",
       "      <td>Agilent Technologies</td>\n",
       "      <td>Diagnostics &amp; Research</td>\n",
       "      <td>38.38B</td>\n",
       "      <td>481</td>\n",
       "      <td>United States</td>\n",
       "    </tr>\n",
       "  </tbody>\n",
       "</table>\n",
       "</div>"
      ],
      "text/plain": [
       "        Date  Gia_mo  Gia_max   Gia_min  Gia_dong  Khoi_Luong_GD Symbol  \\\n",
       "0 2024-01-29  131.75   132.90  131.2800    132.83        1407250      A   \n",
       "1 2024-01-26  133.71   134.23  130.6400    130.99        1319766      A   \n",
       "2 2024-01-25  131.11   131.43  129.4300    129.88        1120939      A   \n",
       "3 2024-01-24  132.41   132.80  129.4300    129.78        1141175      A   \n",
       "4 2024-01-23  133.64   133.94  130.3298    131.64         854928      A   \n",
       "\n",
       "           Company Name                Industry Market Cap  Rank  \\\n",
       "0  Agilent Technologies  Diagnostics & Research     38.38B   481   \n",
       "1  Agilent Technologies  Diagnostics & Research     38.38B   481   \n",
       "2  Agilent Technologies  Diagnostics & Research     38.38B   481   \n",
       "3  Agilent Technologies  Diagnostics & Research     38.38B   481   \n",
       "4  Agilent Technologies  Diagnostics & Research     38.38B   481   \n",
       "\n",
       "         country  \n",
       "0  United States  \n",
       "1  United States  \n",
       "2  United States  \n",
       "3  United States  \n",
       "4  United States  "
      ]
     },
     "execution_count": 12,
     "metadata": {},
     "output_type": "execute_result"
    }
   ],
   "source": [
    "final_data = pd.merge(data, data2, on=['Symbol' ,\"Company Name\"])\n",
    "final_data.head()"
   ]
  },
  {
   "cell_type": "markdown",
   "metadata": {},
   "source": [
    "Sửa lại tên các trường trong bảng"
   ]
  },
  {
   "cell_type": "code",
   "execution_count": 13,
   "metadata": {},
   "outputs": [],
   "source": [
    "final_data = final_data.rename(columns={'Symbol': 'Ma_CP',\n",
    "                                        'Industry': 'Nganh_Hang',\n",
    "                                        'Market Cap': 'Von_Hoa_TT',\n",
    "                                        'Rank': 'Xep_Hang',\n",
    "                                        'country': 'Quoc_Gia',\n",
    "                                        'Company Name': 'Ten_CT'})"
   ]
  },
  {
   "cell_type": "code",
   "execution_count": 14,
   "metadata": {},
   "outputs": [
    {
     "data": {
      "text/plain": [
       "Index(['Date', 'Gia_mo', 'Gia_max', 'Gia_min', 'Gia_dong', 'Khoi_Luong_GD',\n",
       "       'Ma_CP', 'Ten_CT', 'Nganh_Hang', 'Von_Hoa_TT', 'Xep_Hang', 'Quoc_Gia'],\n",
       "      dtype='object')"
      ]
     },
     "execution_count": 14,
     "metadata": {},
     "output_type": "execute_result"
    }
   ],
   "source": [
    "final_data.columns"
   ]
  },
  {
   "cell_type": "markdown",
   "metadata": {},
   "source": [
    "# Tiền xử lý"
   ]
  },
  {
   "cell_type": "markdown",
   "metadata": {},
   "source": [
    "Kiểm tra rỗng"
   ]
  },
  {
   "cell_type": "code",
   "execution_count": 16,
   "metadata": {},
   "outputs": [
    {
     "data": {
      "text/plain": [
       "Date             0\n",
       "Gia_mo           0\n",
       "Gia_max          0\n",
       "Gia_min          0\n",
       "Gia_dong         0\n",
       "Khoi_Luong_GD    0\n",
       "Ma_CP            0\n",
       "Ten_CT           0\n",
       "Nganh_Hang       0\n",
       "Von_Hoa_TT       0\n",
       "Xep_Hang         0\n",
       "Quoc_Gia         0\n",
       "dtype: int64"
      ]
     },
     "execution_count": 16,
     "metadata": {},
     "output_type": "execute_result"
    }
   ],
   "source": [
    "final_data.isna().sum()"
   ]
  },
  {
   "cell_type": "markdown",
   "metadata": {},
   "source": [
    "Kiểm tra trùng lặp"
   ]
  },
  {
   "cell_type": "code",
   "execution_count": 15,
   "metadata": {},
   "outputs": [
    {
     "data": {
      "text/plain": [
       "0"
      ]
     },
     "execution_count": 15,
     "metadata": {},
     "output_type": "execute_result"
    }
   ],
   "source": [
    "final_data.duplicated().sum()"
   ]
  },
  {
   "cell_type": "markdown",
   "metadata": {},
   "source": [
    "- Không thây giá trị rỗng\n",
    "- Không có giá trị trùng lặp\n",
    "\n",
    "=> Dữ liệu đã được làm sạch"
   ]
  },
  {
   "cell_type": "markdown",
   "metadata": {},
   "source": [
    "Những chuyển biến đáng chú ý nhất rơi vào 2014-2023 nên ta sẽ tập trung vào phân tích khoảng thời gian này"
   ]
  },
  {
   "cell_type": "code",
   "execution_count": 17,
   "metadata": {},
   "outputs": [
    {
     "data": {
      "text/html": [
       "<div>\n",
       "<style scoped>\n",
       "    .dataframe tbody tr th:only-of-type {\n",
       "        vertical-align: middle;\n",
       "    }\n",
       "\n",
       "    .dataframe tbody tr th {\n",
       "        vertical-align: top;\n",
       "    }\n",
       "\n",
       "    .dataframe thead th {\n",
       "        text-align: right;\n",
       "    }\n",
       "</style>\n",
       "<table border=\"1\" class=\"dataframe\">\n",
       "  <thead>\n",
       "    <tr style=\"text-align: right;\">\n",
       "      <th></th>\n",
       "      <th>Date</th>\n",
       "      <th>Gia_mo</th>\n",
       "      <th>Gia_max</th>\n",
       "      <th>Gia_min</th>\n",
       "      <th>Gia_dong</th>\n",
       "      <th>Khoi_Luong_GD</th>\n",
       "      <th>Ma_CP</th>\n",
       "      <th>Ten_CT</th>\n",
       "      <th>Nganh_Hang</th>\n",
       "      <th>Von_Hoa_TT</th>\n",
       "      <th>Xep_Hang</th>\n",
       "      <th>Quoc_Gia</th>\n",
       "    </tr>\n",
       "  </thead>\n",
       "  <tbody>\n",
       "    <tr>\n",
       "      <th>19</th>\n",
       "      <td>2023-12-29</td>\n",
       "      <td>139.07</td>\n",
       "      <td>139.7000</td>\n",
       "      <td>138.3600</td>\n",
       "      <td>139.03</td>\n",
       "      <td>1014431</td>\n",
       "      <td>A</td>\n",
       "      <td>Agilent Technologies</td>\n",
       "      <td>Diagnostics &amp; Research</td>\n",
       "      <td>38.38B</td>\n",
       "      <td>481</td>\n",
       "      <td>United States</td>\n",
       "    </tr>\n",
       "    <tr>\n",
       "      <th>20</th>\n",
       "      <td>2023-12-28</td>\n",
       "      <td>140.54</td>\n",
       "      <td>140.8114</td>\n",
       "      <td>139.6500</td>\n",
       "      <td>139.77</td>\n",
       "      <td>892560</td>\n",
       "      <td>A</td>\n",
       "      <td>Agilent Technologies</td>\n",
       "      <td>Diagnostics &amp; Research</td>\n",
       "      <td>38.38B</td>\n",
       "      <td>481</td>\n",
       "      <td>United States</td>\n",
       "    </tr>\n",
       "    <tr>\n",
       "      <th>21</th>\n",
       "      <td>2023-12-27</td>\n",
       "      <td>139.78</td>\n",
       "      <td>140.1550</td>\n",
       "      <td>139.0800</td>\n",
       "      <td>139.82</td>\n",
       "      <td>1181522</td>\n",
       "      <td>A</td>\n",
       "      <td>Agilent Technologies</td>\n",
       "      <td>Diagnostics &amp; Research</td>\n",
       "      <td>38.38B</td>\n",
       "      <td>481</td>\n",
       "      <td>United States</td>\n",
       "    </tr>\n",
       "    <tr>\n",
       "      <th>22</th>\n",
       "      <td>2023-12-26</td>\n",
       "      <td>139.31</td>\n",
       "      <td>140.4700</td>\n",
       "      <td>139.0866</td>\n",
       "      <td>139.81</td>\n",
       "      <td>948390</td>\n",
       "      <td>A</td>\n",
       "      <td>Agilent Technologies</td>\n",
       "      <td>Diagnostics &amp; Research</td>\n",
       "      <td>38.38B</td>\n",
       "      <td>481</td>\n",
       "      <td>United States</td>\n",
       "    </tr>\n",
       "    <tr>\n",
       "      <th>23</th>\n",
       "      <td>2023-12-22</td>\n",
       "      <td>139.61</td>\n",
       "      <td>140.3600</td>\n",
       "      <td>138.7900</td>\n",
       "      <td>139.57</td>\n",
       "      <td>1204144</td>\n",
       "      <td>A</td>\n",
       "      <td>Agilent Technologies</td>\n",
       "      <td>Diagnostics &amp; Research</td>\n",
       "      <td>38.38B</td>\n",
       "      <td>481</td>\n",
       "      <td>United States</td>\n",
       "    </tr>\n",
       "    <tr>\n",
       "      <th>...</th>\n",
       "      <td>...</td>\n",
       "      <td>...</td>\n",
       "      <td>...</td>\n",
       "      <td>...</td>\n",
       "      <td>...</td>\n",
       "      <td>...</td>\n",
       "      <td>...</td>\n",
       "      <td>...</td>\n",
       "      <td>...</td>\n",
       "      <td>...</td>\n",
       "      <td>...</td>\n",
       "      <td>...</td>\n",
       "    </tr>\n",
       "    <tr>\n",
       "      <th>14840988</th>\n",
       "      <td>2017-05-04</td>\n",
       "      <td>13.34</td>\n",
       "      <td>13.5000</td>\n",
       "      <td>13.0000</td>\n",
       "      <td>13.11</td>\n",
       "      <td>33256</td>\n",
       "      <td>ZYME</td>\n",
       "      <td>Zymeworks</td>\n",
       "      <td>Biotechnology</td>\n",
       "      <td>728.02M</td>\n",
       "      <td>5378</td>\n",
       "      <td>Canada</td>\n",
       "    </tr>\n",
       "    <tr>\n",
       "      <th>14840989</th>\n",
       "      <td>2017-05-03</td>\n",
       "      <td>13.10</td>\n",
       "      <td>13.3952</td>\n",
       "      <td>13.1000</td>\n",
       "      <td>13.28</td>\n",
       "      <td>40809</td>\n",
       "      <td>ZYME</td>\n",
       "      <td>Zymeworks</td>\n",
       "      <td>Biotechnology</td>\n",
       "      <td>728.02M</td>\n",
       "      <td>5378</td>\n",
       "      <td>Canada</td>\n",
       "    </tr>\n",
       "    <tr>\n",
       "      <th>14840990</th>\n",
       "      <td>2017-05-02</td>\n",
       "      <td>13.00</td>\n",
       "      <td>13.1920</td>\n",
       "      <td>13.0000</td>\n",
       "      <td>13.10</td>\n",
       "      <td>68578</td>\n",
       "      <td>ZYME</td>\n",
       "      <td>Zymeworks</td>\n",
       "      <td>Biotechnology</td>\n",
       "      <td>728.02M</td>\n",
       "      <td>5378</td>\n",
       "      <td>Canada</td>\n",
       "    </tr>\n",
       "    <tr>\n",
       "      <th>14840991</th>\n",
       "      <td>2017-05-01</td>\n",
       "      <td>13.20</td>\n",
       "      <td>13.2000</td>\n",
       "      <td>13.0000</td>\n",
       "      <td>13.07</td>\n",
       "      <td>97009</td>\n",
       "      <td>ZYME</td>\n",
       "      <td>Zymeworks</td>\n",
       "      <td>Biotechnology</td>\n",
       "      <td>728.02M</td>\n",
       "      <td>5378</td>\n",
       "      <td>Canada</td>\n",
       "    </tr>\n",
       "    <tr>\n",
       "      <th>14840992</th>\n",
       "      <td>2017-04-28</td>\n",
       "      <td>13.50</td>\n",
       "      <td>14.2500</td>\n",
       "      <td>13.0000</td>\n",
       "      <td>13.00</td>\n",
       "      <td>953887</td>\n",
       "      <td>ZYME</td>\n",
       "      <td>Zymeworks</td>\n",
       "      <td>Biotechnology</td>\n",
       "      <td>728.02M</td>\n",
       "      <td>5378</td>\n",
       "      <td>Canada</td>\n",
       "    </tr>\n",
       "  </tbody>\n",
       "</table>\n",
       "<p>8151274 rows × 12 columns</p>\n",
       "</div>"
      ],
      "text/plain": [
       "               Date  Gia_mo   Gia_max   Gia_min  Gia_dong  Khoi_Luong_GD  \\\n",
       "19       2023-12-29  139.07  139.7000  138.3600    139.03        1014431   \n",
       "20       2023-12-28  140.54  140.8114  139.6500    139.77         892560   \n",
       "21       2023-12-27  139.78  140.1550  139.0800    139.82        1181522   \n",
       "22       2023-12-26  139.31  140.4700  139.0866    139.81         948390   \n",
       "23       2023-12-22  139.61  140.3600  138.7900    139.57        1204144   \n",
       "...             ...     ...       ...       ...       ...            ...   \n",
       "14840988 2017-05-04   13.34   13.5000   13.0000     13.11          33256   \n",
       "14840989 2017-05-03   13.10   13.3952   13.1000     13.28          40809   \n",
       "14840990 2017-05-02   13.00   13.1920   13.0000     13.10          68578   \n",
       "14840991 2017-05-01   13.20   13.2000   13.0000     13.07          97009   \n",
       "14840992 2017-04-28   13.50   14.2500   13.0000     13.00         953887   \n",
       "\n",
       "         Ma_CP                Ten_CT              Nganh_Hang Von_Hoa_TT  \\\n",
       "19           A  Agilent Technologies  Diagnostics & Research     38.38B   \n",
       "20           A  Agilent Technologies  Diagnostics & Research     38.38B   \n",
       "21           A  Agilent Technologies  Diagnostics & Research     38.38B   \n",
       "22           A  Agilent Technologies  Diagnostics & Research     38.38B   \n",
       "23           A  Agilent Technologies  Diagnostics & Research     38.38B   \n",
       "...        ...                   ...                     ...        ...   \n",
       "14840988  ZYME             Zymeworks           Biotechnology    728.02M   \n",
       "14840989  ZYME             Zymeworks           Biotechnology    728.02M   \n",
       "14840990  ZYME             Zymeworks           Biotechnology    728.02M   \n",
       "14840991  ZYME             Zymeworks           Biotechnology    728.02M   \n",
       "14840992  ZYME             Zymeworks           Biotechnology    728.02M   \n",
       "\n",
       "          Xep_Hang       Quoc_Gia  \n",
       "19             481  United States  \n",
       "20             481  United States  \n",
       "21             481  United States  \n",
       "22             481  United States  \n",
       "23             481  United States  \n",
       "...            ...            ...  \n",
       "14840988      5378         Canada  \n",
       "14840989      5378         Canada  \n",
       "14840990      5378         Canada  \n",
       "14840991      5378         Canada  \n",
       "14840992      5378         Canada  \n",
       "\n",
       "[8151274 rows x 12 columns]"
      ]
     },
     "execution_count": 17,
     "metadata": {},
     "output_type": "execute_result"
    }
   ],
   "source": [
    "start_date = '2014-01-01'\n",
    "end_date = '2023-12-31'\n",
    "\n",
    "final_data = final_data[(final_data['Date'] >= start_date) & (final_data['Date'] <= end_date)]\n",
    "\n",
    "# In kết quả\n",
    "final_data"
   ]
  },
  {
   "cell_type": "code",
   "execution_count": 19,
   "metadata": {},
   "outputs": [
    {
     "name": "stdout",
     "output_type": "stream",
     "text": [
      "<class 'pandas.core.frame.DataFrame'>\n",
      "Int64Index: 8151274 entries, 19 to 14840992\n",
      "Data columns (total 12 columns):\n",
      " #   Column         Dtype         \n",
      "---  ------         -----         \n",
      " 0   Date           datetime64[ns]\n",
      " 1   Gia_mo         float64       \n",
      " 2   Gia_max        float64       \n",
      " 3   Gia_min        float64       \n",
      " 4   Gia_dong       float64       \n",
      " 5   Khoi_Luong_GD  int64         \n",
      " 6   Ma_CP          object        \n",
      " 7   Ten_CT         object        \n",
      " 8   Nganh_Hang     object        \n",
      " 9   Von_Hoa_TT     object        \n",
      " 10  Xep_Hang       int64         \n",
      " 11  Quoc_Gia       object        \n",
      "dtypes: datetime64[ns](1), float64(4), int64(2), object(5)\n",
      "memory usage: 808.5+ MB\n"
     ]
    }
   ],
   "source": [
    "final_data.info()"
   ]
  },
  {
   "cell_type": "markdown",
   "metadata": {},
   "source": [
    "Xuất file dữ liệu"
   ]
  },
  {
   "cell_type": "code",
   "execution_count": 20,
   "metadata": {},
   "outputs": [],
   "source": [
    "final_data.to_csv('Final_data.csv', index=False)"
   ]
  }
 ],
 "metadata": {
  "kernelspec": {
   "display_name": "Python 3",
   "language": "python",
   "name": "python3"
  },
  "language_info": {
   "codemirror_mode": {
    "name": "ipython",
    "version": 3
   },
   "file_extension": ".py",
   "mimetype": "text/x-python",
   "name": "python",
   "nbconvert_exporter": "python",
   "pygments_lexer": "ipython3",
   "version": "3.10.8"
  }
 },
 "nbformat": 4,
 "nbformat_minor": 2
}
